{
 "cells": [
  {
   "cell_type": "code",
   "execution_count": null,
   "metadata": {},
   "outputs": [],
   "source": [
    "# importing modules\n",
    "import pandas as pd\n",
    "\n",
    "# Read datasets/yearly_deaths_by_clinic.csv into yearly\n",
    "yearly = pd.read_csv('./dataset/yearly_deaths_by_clinic.csv')\n",
    "\n",
    "# This makes plots appear in the notebook\n",
    "%matplotlib inline\n",
    "\n",
    "# Plot yearly proportion of deaths at the two clinics\n",
    "ax = yearly1.plot(x='year', y='proportion_deaths', label='clinic 1')\n",
    "yearly2.plot(x='year', y='proportion_deaths', label='clinic 2', ax=ax)\n",
    "ax.set_ylabel('Proportion deaths')\n",
    "\n",
    "# or Adding some nice labels\n",
    "plt.xlabel('x-axis')\n",
    "plt.ylabel('y-axis')\n"
   ]
  }
 ],
 "metadata": {
  "language_info": {
   "name": "python"
  },
  "orig_nbformat": 4
 },
 "nbformat": 4,
 "nbformat_minor": 2
}
